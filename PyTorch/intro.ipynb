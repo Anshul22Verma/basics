{
  "nbformat": 4,
  "nbformat_minor": 0,
  "metadata": {
    "colab": {
      "name": "Untitled8.ipynb",
      "provenance": []
    },
    "kernelspec": {
      "name": "python3",
      "display_name": "Python 3"
    },
    "language_info": {
      "name": "python"
    }
  },
  "cells": [
    {
      "cell_type": "markdown",
      "metadata": {
        "id": "M857YjYNvxvP"
      },
      "source": [
        "# Introduction to PyTorch\n",
        "\n",
        "Revision: 1.00 , Date: $16^{th}. May, 2021$\n",
        "\n",
        "Source: [erozita](https://github.com/ezorita/pytorch_notebooks/blob/master/1_introduction_to_pytorch.ipynb)\n",
        "\n",
        "---\n",
        "\n",
        "Let's start by importing all the essential modules."
      ]
    },
    {
      "cell_type": "code",
      "metadata": {
        "id": "W_kB8Y4evlom"
      },
      "source": [
        "import torch\n",
        "import numpy as np\n",
        "import matplotlib.pyplot as plt"
      ],
      "execution_count": 1,
      "outputs": []
    },
    {
      "cell_type": "markdown",
      "metadata": {
        "id": "fNpicVTEwEjo"
      },
      "source": [
        "## Tensors and Gradients\n",
        "\n",
        "### 1. Tensors\n",
        "\n",
        "Tensors are like numpy arrays/matrices: "
      ]
    },
    {
      "cell_type": "code",
      "metadata": {
        "colab": {
          "base_uri": "https://localhost:8080/"
        },
        "id": "6aUK0laTwQNy",
        "outputId": "93ebae1f-ff87-4b43-ca57-137c15796a59"
      },
      "source": [
        "a  = torch.tensor([[1, 2, 3], [1, 2, 3]], dtype=torch.float32)\n",
        "print(a)"
      ],
      "execution_count": 2,
      "outputs": [
        {
          "output_type": "stream",
          "text": [
            "tensor([[1., 2., 3.],\n",
            "        [1., 2., 3.]])\n"
          ],
          "name": "stdout"
        }
      ]
    },
    {
      "cell_type": "markdown",
      "metadata": {
        "id": "b6CBr6aGwgWh"
      },
      "source": [
        "There are several ways to initialize tensors in PyTorch, just like its the case with initializing numpy arrays."
      ]
    },
    {
      "cell_type": "code",
      "metadata": {
        "colab": {
          "base_uri": "https://localhost:8080/"
        },
        "id": "gZkysOYCwfYg",
        "outputId": "6e01407e-7c3d-42d3-f4d6-b0b5f45f4955"
      },
      "source": [
        "b = torch.ones(2,3)\n",
        "print(f'b: {b}')\n",
        "c = torch.zeros(2,3)\n",
        "print(f'c: {c}')\n",
        "d = torch.randn(4, 4)\n",
        "print(f'd: {d}')"
      ],
      "execution_count": 3,
      "outputs": [
        {
          "output_type": "stream",
          "text": [
            "b: tensor([[1., 1., 1.],\n",
            "        [1., 1., 1.]])\n",
            "c: tensor([[0., 0., 0.],\n",
            "        [0., 0., 0.]])\n",
            "d: tensor([[ 1.5727, -0.9121, -1.2754,  0.8197],\n",
            "        [-0.3737, -0.4267,  0.7139,  0.1408],\n",
            "        [ 0.2777,  0.2037,  0.7357, -0.1995],\n",
            "        [ 1.1090, -0.3205,  0.4893, -0.3355]])\n"
          ],
          "name": "stdout"
        }
      ]
    },
    {
      "cell_type": "markdown",
      "metadata": {
        "id": "HuGrpe23xiX3"
      },
      "source": [
        "Numpy arrays can be converted to tensors using `from_numpy` functions or im"
      ]
    },
    {
      "cell_type": "code",
      "metadata": {
        "colab": {
          "base_uri": "https://localhost:8080/"
        },
        "id": "03bDByFPwfV3",
        "outputId": "fd19ef05-72e2-4189-c6b1-0e9eb20e6d3d"
      },
      "source": [
        "a = np.array([[-3, -2, -1], [97, 98, 99]])\n",
        "t1 = torch.from_numpy(a)\n",
        "print(f't1: {t1}')\n",
        "\n",
        "t2 = torch.tensor(a)\n",
        "print(f't2: {t2}')"
      ],
      "execution_count": 4,
      "outputs": [
        {
          "output_type": "stream",
          "text": [
            "t1: tensor([[-3, -2, -1],\n",
            "        [97, 98, 99]])\n",
            "t2: tensor([[-3, -2, -1],\n",
            "        [97, 98, 99]])\n"
          ],
          "name": "stdout"
        }
      ]
    },
    {
      "cell_type": "markdown",
      "metadata": {
        "id": "9FizDvFCzPev"
      },
      "source": [
        "we can simply do element wise arithemetic operations with tensors"
      ]
    },
    {
      "cell_type": "code",
      "metadata": {
        "colab": {
          "base_uri": "https://localhost:8080/"
        },
        "id": "cHgnDk4AwfO4",
        "outputId": "a8e2d4ba-930e-47b7-953f-667bb4df18cc"
      },
      "source": [
        "a = torch.tensor([[1,0],[0,1]])\n",
        "b = torch.tensor([[1,-1],[-1,1]])\n",
        "print(f'a+b: {a+b}')\n",
        "print(f'a-b: {a-b}')\n",
        "print(f'a*b: {a*b}')\n",
        "print(f'a/b: {a/b}')"
      ],
      "execution_count": 5,
      "outputs": [
        {
          "output_type": "stream",
          "text": [
            "a+b: tensor([[ 2, -1],\n",
            "        [-1,  2]])\n",
            "a-b: tensor([[0, 1],\n",
            "        [1, 0]])\n",
            "a*b: tensor([[1, 0],\n",
            "        [0, 1]])\n",
            "a/b: tensor([[1., -0.],\n",
            "        [-0., 1.]])\n"
          ],
          "name": "stdout"
        }
      ]
    },
    {
      "cell_type": "markdown",
      "metadata": {
        "id": "AbRMD9Y7zwvR"
      },
      "source": [
        "we can also perform other operations like matrix multiplications using `torch.mm`"
      ]
    },
    {
      "cell_type": "code",
      "metadata": {
        "colab": {
          "base_uri": "https://localhost:8080/"
        },
        "id": "e7jxwW7H0Hot",
        "outputId": "27f158b8-f387-43a8-d9b2-cd81d51073e1"
      },
      "source": [
        "c = torch.mm(a, b) # I(identity-matrix) X B = B\n",
        "print(f'c: {c}')"
      ],
      "execution_count": 6,
      "outputs": [
        {
          "output_type": "stream",
          "text": [
            "c: tensor([[ 1, -1],\n",
            "        [-1,  1]])\n"
          ],
          "name": "stdout"
        }
      ]
    },
    {
      "cell_type": "markdown",
      "metadata": {
        "id": "yt0VaJU30f9R"
      },
      "source": [
        "### 2. Tensor Gradients\n",
        "\n",
        "By default PyTorch tensors represent function constants. We can convert them to function variables (weights) by setting `required_grad` (boolean, argument of a tensor constructor) **True**"
      ]
    },
    {
      "cell_type": "code",
      "metadata": {
        "colab": {
          "base_uri": "https://localhost:8080/"
        },
        "id": "IiLPBXlY0HsT",
        "outputId": "eaca8970-0be7-463c-c3d2-b6346465be6a"
      },
      "source": [
        "t = torch.tensor([[1,1],[2,2]], dtype=torch.float32)\n",
        "print(f'default required_grad value of t: {t.requires_grad}')\n",
        "\n",
        "t = torch.tensor([1,2,3,4], dtype=torch.float32, requires_grad=True)\n",
        "print(f\"once its initialized as a weight matrix t's requires_grad: {t.requires_grad}\")\n",
        "\n",
        "# We can set this to false or true later as well to useful to freeze some layers\n",
        "t.requires_grad = False\n",
        "print(f\"resetting it to constant matrix t's requires_grad: {t.requires_grad}\")"
      ],
      "execution_count": 7,
      "outputs": [
        {
          "output_type": "stream",
          "text": [
            "default required_grad value of t: False\n",
            "once its initialized as a weight matrix t's requires_grad: True\n",
            "resetting it to constant matrix t's requires_grad: False\n"
          ],
          "name": "stdout"
        }
      ]
    },
    {
      "cell_type": "markdown",
      "metadata": {
        "id": "qih7Dbd32oyK"
      },
      "source": [
        "## Optimization\n",
        "\n",
        "\n",
        "### Fitting a linear model\n",
        "Model description\n",
        "\n",
        "As an example, we want to optimize the fitting of a linear model to several datapoints using tensor gradients. We will use stochastic gradient descent to find the values of our parameters that minimize the error between the modeled line and the datapoints.\n",
        "\n",
        "Since we are fitting a linear model, the parameters to optimize are the slope $a$ and the offset $b$ of the linear equation\n",
        "$$\\hat{y}(x) = a x + b$$\n",
        "\n",
        "Optimizing the model reduces to finding the values of $a$ and $b$ that minimize the mean squared error of the data samples $(x_i,y_i)$:\n",
        "$$\\min_{a,b} \\frac{1}{N}\\sum_{i=1}^N (y_i-\\hat{y}(x_i))^2$$\n",
        "Data samples\n",
        "\n",
        "We start by defining our data samples"
      ]
    },
    {
      "cell_type": "code",
      "metadata": {
        "id": "f8GKWrGp0gUq"
      },
      "source": [
        "x = torch.tensor([0,1,2,3,4,5,6,7,8, 10], dtype=torch.float32)\n",
        "a = torch.ones(10)\n",
        "a = a*5\n",
        "# adding some randomness\n",
        "randomness = torch.rand(10)\n",
        "\n",
        "y = a*x + randomness"
      ],
      "execution_count": 18,
      "outputs": []
    },
    {
      "cell_type": "markdown",
      "metadata": {
        "id": "yZ0CwKLiB2JR"
      },
      "source": [
        "We can easily visualize the datapoints in a 2D tensor"
      ]
    },
    {
      "cell_type": "code",
      "metadata": {
        "colab": {
          "base_uri": "https://localhost:8080/"
        },
        "id": "L5d77cSR0g8O",
        "outputId": "0493d19a-14f5-4847-f2af-f66541d94d9a"
      },
      "source": [
        "xy = torch.stack((x,y))\n",
        "print(torch.t(xy))"
      ],
      "execution_count": 19,
      "outputs": [
        {
          "output_type": "stream",
          "text": [
            "tensor([[ 0.0000,  0.6866],\n",
            "        [ 1.0000,  5.4072],\n",
            "        [ 2.0000, 10.5659],\n",
            "        [ 3.0000, 15.4073],\n",
            "        [ 4.0000, 20.3650],\n",
            "        [ 5.0000, 25.4268],\n",
            "        [ 6.0000, 30.4522],\n",
            "        [ 7.0000, 35.6960],\n",
            "        [ 8.0000, 40.5056],\n",
            "        [10.0000, 50.3924]])\n"
          ],
          "name": "stdout"
        }
      ]
    },
    {
      "cell_type": "markdown",
      "metadata": {
        "id": "e4l0jiQBCBuT"
      },
      "source": [
        "\n",
        "Model parameters\n",
        "\n",
        "We allocate two tensors a and b as parameters (weight metrices)"
      ]
    },
    {
      "cell_type": "code",
      "metadata": {
        "colab": {
          "base_uri": "https://localhost:8080/"
        },
        "id": "58aGnIs30g1e",
        "outputId": "9a955b7a-6267-47a9-e777-29d8a6a50511"
      },
      "source": [
        "a = torch.tensor(0.0, dtype=torch.float32, requires_grad=True)\n",
        "b = torch.tensor(0.0, dtype=torch.float32, requires_grad=True)\n",
        "print(f'a: {a}')\n",
        "print(f'b: {b}')"
      ],
      "execution_count": 21,
      "outputs": [
        {
          "output_type": "stream",
          "text": [
            "a: 0.0\n",
            "b: 0.0\n"
          ],
          "name": "stdout"
        }
      ]
    },
    {
      "cell_type": "markdown",
      "metadata": {
        "id": "jvHJY_twCVOy"
      },
      "source": [
        "\n",
        "Cost function\n",
        "\n",
        "Also known as the loss function, is the target function to optimize, in our case the mean squared error and lets see the loss with initial parameters\n"
      ]
    },
    {
      "cell_type": "code",
      "metadata": {
        "colab": {
          "base_uri": "https://localhost:8080/"
        },
        "id": "E9LjtFxD0gyz",
        "outputId": "5c612a5c-771d-419e-a135-3091c5d81431"
      },
      "source": [
        "loss = 1/len(x)*torch.sum(torch.pow(y - a*x - b, 2))\n",
        "print(loss)"
      ],
      "execution_count": 31,
      "outputs": [
        {
          "output_type": "stream",
          "text": [
            "tensor(782.1626, grad_fn=<MulBackward0>)\n"
          ],
          "name": "stdout"
        }
      ]
    },
    {
      "cell_type": "markdown",
      "metadata": {
        "id": "v4ppx_2vClDh"
      },
      "source": [
        "\n",
        "### The optimizer\n",
        "\n",
        "#### Gradient Updates\n",
        "\n",
        "The optimizer is a buffer that collects the computed gradients and updates the parameters according to an algorithm. The update is triggered every time we call the method `step()`. It is important to remark that the **optimizer does not compute the gradients**.\n",
        "\n",
        "#### Gradient Computation\n",
        "\n",
        "The gradients are computed and stored in the tensors whose `require_grad` attribute is set to **True**. To compute the gradients we have to use `backward()` on a Tensor that represents a function of the parameters.\n",
        "\n",
        "#### Gradient Update Algorithm\n",
        "\n",
        "We will be using Stochastic Gradient Descent for optimization. The algorithm is defined in `torch.optim.SGD` and requires the parameters to be optimized and the learning rate\n"
      ]
    },
    {
      "cell_type": "code",
      "metadata": {
        "id": "KR_Ilp0rCmZS"
      },
      "source": [
        "optimizer = torch.optim.SGD([a,b], lr=0.01)"
      ],
      "execution_count": 26,
      "outputs": []
    },
    {
      "cell_type": "markdown",
      "metadata": {
        "id": "mwytQcf2Ck8-"
      },
      "source": [
        "\n",
        "\n",
        "It is important to reset the gradients stored in the optimizer before each gradient computation\n"
      ]
    },
    {
      "cell_type": "code",
      "metadata": {
        "colab": {
          "base_uri": "https://localhost:8080/"
        },
        "id": "j7tmEQrs0gvg",
        "outputId": "7e2ff02c-1c3a-4b43-aba9-d50b16d5fb13"
      },
      "source": [
        "optimizer.zero_grad()\n",
        "\n",
        "# the gradients are now set to 0\n",
        "print(a.grad)\n",
        "print(b.grad)"
      ],
      "execution_count": 28,
      "outputs": [
        {
          "output_type": "stream",
          "text": [
            "None\n",
            "None\n"
          ],
          "name": "stdout"
        }
      ]
    },
    {
      "cell_type": "markdown",
      "metadata": {
        "id": "blaWin4PDSwO"
      },
      "source": [
        "We want to compute the gradients of the parameters wrt the Loss function. To do so, we use the `backward()` on Loss"
      ]
    },
    {
      "cell_type": "code",
      "metadata": {
        "colab": {
          "base_uri": "https://localhost:8080/"
        },
        "id": "Rhnk_5BtDKsJ",
        "outputId": "16879f91-731a-4eb1-ace5-e8d92d97115b"
      },
      "source": [
        "loss.backward()\n",
        "\n",
        "# check the gradients\n",
        "print(a.grad)\n",
        "print(b.grad)"
      ],
      "execution_count": 32,
      "outputs": [
        {
          "output_type": "stream",
          "text": [
            "tensor(-616.7635)\n",
            "tensor(-93.9620)\n"
          ],
          "name": "stdout"
        }
      ]
    },
    {
      "cell_type": "markdown",
      "metadata": {
        "id": "8Ihe-g7uDy7P"
      },
      "source": [
        "Once the gradients are computed, we perform a gradient descent step and reset the stored gradients\n"
      ]
    },
    {
      "cell_type": "code",
      "metadata": {
        "id": "xfDmzuYoDKmX"
      },
      "source": [
        "optimizer.step()\n",
        "optimizer.zero_grad()"
      ],
      "execution_count": 33,
      "outputs": []
    },
    {
      "cell_type": "markdown",
      "metadata": {
        "id": "sAKOa0ikEGqy"
      },
      "source": [
        "Let's check how the values of $a$ and $b$ have changed and whether the loss has decreased"
      ]
    },
    {
      "cell_type": "code",
      "metadata": {
        "colab": {
          "base_uri": "https://localhost:8080/"
        },
        "id": "UZIqjOAvDKfB",
        "outputId": "71566742-e675-4234-e30e-d7e88f15f115"
      },
      "source": [
        "print(f'new value of a: {a}')\n",
        "print(f'new value of b: {b}')"
      ],
      "execution_count": 34,
      "outputs": [
        {
          "output_type": "stream",
          "text": [
            "new value of a: 6.167635440826416\n",
            "new value of b: 0.9396199584007263\n"
          ],
          "name": "stdout"
        }
      ]
    },
    {
      "cell_type": "code",
      "metadata": {
        "colab": {
          "base_uri": "https://localhost:8080/"
        },
        "id": "wgkYAH4wELQ7",
        "outputId": "50109dfe-e9f5-413c-e8c3-f57892fe82aa"
      },
      "source": [
        "loss = 1/len(x)*torch.sum(torch.pow(y - a*x - b, 2))\n",
        "print(loss)"
      ],
      "execution_count": 35,
      "outputs": [
        {
          "output_type": "stream",
          "text": [
            "tensor(46.6387, grad_fn=<MulBackward0>)\n"
          ],
          "name": "stdout"
        }
      ]
    },
    {
      "cell_type": "markdown",
      "metadata": {
        "id": "h8wnGXEzEQIz"
      },
      "source": [
        "\n",
        "## SGD iterations\n",
        "\n",
        "Each SGD step updates our parameters according to the current gradients and the learning rate. We need several iterations to find the optimal values for $a$ and $b$. Let's iterate the same procedure 10 times to refine the fit of the model\n"
      ]
    },
    {
      "cell_type": "code",
      "metadata": {
        "colab": {
          "base_uri": "https://localhost:8080/"
        },
        "id": "kkQpM6SPEQhD",
        "outputId": "5d2aa6d3-9c65-4b0e-d56b-a4134074235d"
      },
      "source": [
        "for i in np.arange(10):\n",
        "    # Reset gradients\n",
        "    optimizer.zero_grad()\n",
        "    \n",
        "    # Compute loss and gradients\n",
        "    loss = 1/len(x)*torch.sum(torch.pow(y - a*x - b, 2))\n",
        "    loss.backward()\n",
        "    \n",
        "    # Update parameters\n",
        "    optimizer.step()\n",
        "    \n",
        "    # Print loss of previous step\n",
        "    print(f'Loss: {loss}')"
      ],
      "execution_count": 36,
      "outputs": [
        {
          "output_type": "stream",
          "text": [
            "tensor(46.6387, grad_fn=<MulBackward0>)\n",
            "tensor(6.6865, grad_fn=<MulBackward0>)\n",
            "tensor(0.9796, grad_fn=<MulBackward0>)\n",
            "tensor(0.1643, grad_fn=<MulBackward0>)\n",
            "tensor(0.0476, grad_fn=<MulBackward0>)\n",
            "tensor(0.0308, grad_fn=<MulBackward0>)\n",
            "tensor(0.0283, grad_fn=<MulBackward0>)\n",
            "tensor(0.0277, grad_fn=<MulBackward0>)\n",
            "tensor(0.0275, grad_fn=<MulBackward0>)\n",
            "tensor(0.0273, grad_fn=<MulBackward0>)\n"
          ],
          "name": "stdout"
        }
      ]
    },
    {
      "cell_type": "markdown",
      "metadata": {
        "id": "Ke08oCqIEfS9"
      },
      "source": [
        "After 10 steps we see that the loss has converged. We can try to improve it by doing smaller steps (reducing the learning rate), but it's important to remember that the Loss will never reach 0 because the data does not perfectly fit a linear distribution.\n",
        "\n",
        "Let's iterate again with **LR=0.001**"
      ]
    },
    {
      "cell_type": "code",
      "metadata": {
        "id": "CFuql5XKEbTN"
      },
      "source": [
        "optimizer.param_groups[0]['lr'] = 1e-3"
      ],
      "execution_count": 37,
      "outputs": []
    },
    {
      "cell_type": "code",
      "metadata": {
        "colab": {
          "base_uri": "https://localhost:8080/"
        },
        "id": "t3EMw0uoEmCF",
        "outputId": "0da25eb9-d84a-416b-a8be-b83096b2c6d6"
      },
      "source": [
        "for i in np.arange(10):\n",
        "    # Reset gradients\n",
        "    optimizer.zero_grad()\n",
        "    \n",
        "    # Compute loss and gradients\n",
        "    loss = 1/len(x)*torch.sum(torch.pow(y-a*x-b, 2))\n",
        "    loss.backward()\n",
        "    \n",
        "    # Update parameters\n",
        "    optimizer.step()\n",
        "    \n",
        "    # Print loss of previous step\n",
        "    print(f'Loss: {loss}')"
      ],
      "execution_count": 38,
      "outputs": [
        {
          "output_type": "stream",
          "text": [
            "tensor(0.0272, grad_fn=<MulBackward0>)\n",
            "tensor(0.0271, grad_fn=<MulBackward0>)\n",
            "tensor(0.0271, grad_fn=<MulBackward0>)\n",
            "tensor(0.0271, grad_fn=<MulBackward0>)\n",
            "tensor(0.0271, grad_fn=<MulBackward0>)\n",
            "tensor(0.0271, grad_fn=<MulBackward0>)\n",
            "tensor(0.0270, grad_fn=<MulBackward0>)\n",
            "tensor(0.0270, grad_fn=<MulBackward0>)\n",
            "tensor(0.0270, grad_fn=<MulBackward0>)\n",
            "tensor(0.0270, grad_fn=<MulBackward0>)\n"
          ],
          "name": "stdout"
        }
      ]
    },
    {
      "cell_type": "markdown",
      "metadata": {
        "id": "ceMhxitoEylb"
      },
      "source": [
        "Indeed, it seems that the Loss has converged.\n",
        "## Results\n",
        "\n",
        "The final values after optimization"
      ]
    },
    {
      "cell_type": "code",
      "metadata": {
        "colab": {
          "base_uri": "https://localhost:8080/"
        },
        "id": "qwMdV13nEzJU",
        "outputId": "86c08e79-f5bf-4750-a451-1944f4a27de1"
      },
      "source": [
        "print(f'Loss: {loss}')\n",
        "print(f'a: {a}')\n",
        "print(f'b: {b}')"
      ],
      "execution_count": 39,
      "outputs": [
        {
          "output_type": "stream",
          "text": [
            "Loss: 0.02699713408946991\n",
            "a: 4.959807395935059\n",
            "b: 0.7400157451629639\n"
          ],
          "name": "stdout"
        }
      ]
    },
    {
      "cell_type": "markdown",
      "metadata": {
        "id": "vUwDIz0eFEPg"
      },
      "source": [
        "And this is how our linear model looks like"
      ]
    },
    {
      "cell_type": "code",
      "metadata": {
        "colab": {
          "base_uri": "https://localhost:8080/",
          "height": 265
        },
        "id": "7nR8V0SsFEuX",
        "outputId": "eea694da-01c6-4d87-c96a-9644071d7c05"
      },
      "source": [
        "plt.scatter(x.numpy(), y.numpy())\n",
        "plt.plot(np.arange(11), np.arange(11)*a.detach().numpy()+b.detach().numpy(), 'k')\n",
        "plt.grid()"
      ],
      "execution_count": 42,
      "outputs": [
        {
          "output_type": "display_data",
          "data": {
            "image/png": "[encoded data removed]",
            "text/plain": [
              "<Figure size 432x288 with 1 Axes>"
            ]
          },
          "metadata": {
            "tags": [],
            "needs_background": "light"
          }
        }
      ]
    }
  ]
}